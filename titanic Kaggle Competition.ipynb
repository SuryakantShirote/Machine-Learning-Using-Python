{
 "cells": [
  {
   "cell_type": "code",
   "execution_count": 1,
   "id": "085ee0ad",
   "metadata": {
    "_cell_guid": "b1076dfc-b9ad-4769-8c92-a6c4dae69d19",
    "_uuid": "8f2839f25d086af736a60e9eeb907d3b93b6e0e5",
    "execution": {
     "iopub.execute_input": "2024-02-07T04:54:21.726922Z",
     "iopub.status.busy": "2024-02-07T04:54:21.725944Z",
     "iopub.status.idle": "2024-02-07T04:54:22.790613Z",
     "shell.execute_reply": "2024-02-07T04:54:22.789586Z"
    },
    "papermill": {
     "duration": 1.080619,
     "end_time": "2024-02-07T04:54:22.793864",
     "exception": false,
     "start_time": "2024-02-07T04:54:21.713245",
     "status": "completed"
    },
    "tags": []
   },
   "outputs": [
    {
     "name": "stdout",
     "output_type": "stream",
     "text": [
      "/kaggle/input/titanic/train.csv\n",
      "/kaggle/input/titanic/test.csv\n",
      "/kaggle/input/titanic/gender_submission.csv\n"
     ]
    }
   ],
   "source": [
    "# This Python 3 environment comes with many helpful analytics libraries installed\n",
    "# It is defined by the kaggle/python Docker image: https://github.com/kaggle/docker-python\n",
    "# For example, here's several helpful packages to load\n",
    "\n",
    "import numpy as np # linear algebra\n",
    "import pandas as pd # data processing, CSV file I/O (e.g. pd.read_csv)\n",
    "\n",
    "# Input data files are available in the read-only \"../input/\" directory\n",
    "# For example, running this (by clicking run or pressing Shift+Enter) will list all files under the input directory\n",
    "\n",
    "import os\n",
    "for dirname, _, filenames in os.walk('/kaggle/input'):\n",
    "    for filename in filenames:\n",
    "        print(os.path.join(dirname, filename))\n",
    "\n",
    "# You can write up to 20GB to the current directory (/kaggle/working/) that gets preserved as output when you create a version using \"Save & Run All\" \n",
    "# You can also write temporary files to /kaggle/temp/, but they won't be saved outside of the current session"
   ]
  },
  {
   "cell_type": "code",
   "execution_count": 2,
   "id": "f61c850a",
   "metadata": {
    "execution": {
     "iopub.execute_input": "2024-02-07T04:54:22.817805Z",
     "iopub.status.busy": "2024-02-07T04:54:22.816397Z",
     "iopub.status.idle": "2024-02-07T04:54:25.370910Z",
     "shell.execute_reply": "2024-02-07T04:54:25.369665Z"
    },
    "papermill": {
     "duration": 2.56952,
     "end_time": "2024-02-07T04:54:25.374178",
     "exception": false,
     "start_time": "2024-02-07T04:54:22.804658",
     "status": "completed"
    },
    "tags": []
   },
   "outputs": [],
   "source": [
    "import pandas as pd\n",
    "import numpy as np\n",
    "import matplotlib.pyplot as plt\n",
    "import seaborn as sns\n",
    "import warnings\n",
    "warnings.filterwarnings('ignore')\n",
    "from sklearn.impute import SimpleImputer\n",
    "from sklearn.preprocessing import OneHotEncoder\n",
    "from xgboost import XGBClassifier"
   ]
  },
  {
   "cell_type": "code",
   "execution_count": 3,
   "id": "8f1995fa",
   "metadata": {
    "execution": {
     "iopub.execute_input": "2024-02-07T04:54:25.396258Z",
     "iopub.status.busy": "2024-02-07T04:54:25.395862Z",
     "iopub.status.idle": "2024-02-07T04:54:25.447613Z",
     "shell.execute_reply": "2024-02-07T04:54:25.446332Z"
    },
    "papermill": {
     "duration": 0.066023,
     "end_time": "2024-02-07T04:54:25.450389",
     "exception": false,
     "start_time": "2024-02-07T04:54:25.384366",
     "status": "completed"
    },
    "tags": []
   },
   "outputs": [
    {
     "data": {
      "text/html": [
       "<div>\n",
       "<style scoped>\n",
       "    .dataframe tbody tr th:only-of-type {\n",
       "        vertical-align: middle;\n",
       "    }\n",
       "\n",
       "    .dataframe tbody tr th {\n",
       "        vertical-align: top;\n",
       "    }\n",
       "\n",
       "    .dataframe thead th {\n",
       "        text-align: right;\n",
       "    }\n",
       "</style>\n",
       "<table border=\"1\" class=\"dataframe\">\n",
       "  <thead>\n",
       "    <tr style=\"text-align: right;\">\n",
       "      <th></th>\n",
       "      <th>PassengerId</th>\n",
       "      <th>Survived</th>\n",
       "      <th>Pclass</th>\n",
       "      <th>Name</th>\n",
       "      <th>Sex</th>\n",
       "      <th>Age</th>\n",
       "      <th>SibSp</th>\n",
       "      <th>Parch</th>\n",
       "      <th>Ticket</th>\n",
       "      <th>Fare</th>\n",
       "      <th>Cabin</th>\n",
       "      <th>Embarked</th>\n",
       "    </tr>\n",
       "  </thead>\n",
       "  <tbody>\n",
       "    <tr>\n",
       "      <th>0</th>\n",
       "      <td>1</td>\n",
       "      <td>0</td>\n",
       "      <td>3</td>\n",
       "      <td>Braund, Mr. Owen Harris</td>\n",
       "      <td>male</td>\n",
       "      <td>22.0</td>\n",
       "      <td>1</td>\n",
       "      <td>0</td>\n",
       "      <td>A/5 21171</td>\n",
       "      <td>7.2500</td>\n",
       "      <td>NaN</td>\n",
       "      <td>S</td>\n",
       "    </tr>\n",
       "    <tr>\n",
       "      <th>1</th>\n",
       "      <td>2</td>\n",
       "      <td>1</td>\n",
       "      <td>1</td>\n",
       "      <td>Cumings, Mrs. John Bradley (Florence Briggs Th...</td>\n",
       "      <td>female</td>\n",
       "      <td>38.0</td>\n",
       "      <td>1</td>\n",
       "      <td>0</td>\n",
       "      <td>PC 17599</td>\n",
       "      <td>71.2833</td>\n",
       "      <td>C85</td>\n",
       "      <td>C</td>\n",
       "    </tr>\n",
       "    <tr>\n",
       "      <th>2</th>\n",
       "      <td>3</td>\n",
       "      <td>1</td>\n",
       "      <td>3</td>\n",
       "      <td>Heikkinen, Miss. Laina</td>\n",
       "      <td>female</td>\n",
       "      <td>26.0</td>\n",
       "      <td>0</td>\n",
       "      <td>0</td>\n",
       "      <td>STON/O2. 3101282</td>\n",
       "      <td>7.9250</td>\n",
       "      <td>NaN</td>\n",
       "      <td>S</td>\n",
       "    </tr>\n",
       "    <tr>\n",
       "      <th>3</th>\n",
       "      <td>4</td>\n",
       "      <td>1</td>\n",
       "      <td>1</td>\n",
       "      <td>Futrelle, Mrs. Jacques Heath (Lily May Peel)</td>\n",
       "      <td>female</td>\n",
       "      <td>35.0</td>\n",
       "      <td>1</td>\n",
       "      <td>0</td>\n",
       "      <td>113803</td>\n",
       "      <td>53.1000</td>\n",
       "      <td>C123</td>\n",
       "      <td>S</td>\n",
       "    </tr>\n",
       "    <tr>\n",
       "      <th>4</th>\n",
       "      <td>5</td>\n",
       "      <td>0</td>\n",
       "      <td>3</td>\n",
       "      <td>Allen, Mr. William Henry</td>\n",
       "      <td>male</td>\n",
       "      <td>35.0</td>\n",
       "      <td>0</td>\n",
       "      <td>0</td>\n",
       "      <td>373450</td>\n",
       "      <td>8.0500</td>\n",
       "      <td>NaN</td>\n",
       "      <td>S</td>\n",
       "    </tr>\n",
       "  </tbody>\n",
       "</table>\n",
       "</div>"
      ],
      "text/plain": [
       "   PassengerId  Survived  Pclass  \\\n",
       "0            1         0       3   \n",
       "1            2         1       1   \n",
       "2            3         1       3   \n",
       "3            4         1       1   \n",
       "4            5         0       3   \n",
       "\n",
       "                                                Name     Sex   Age  SibSp  \\\n",
       "0                            Braund, Mr. Owen Harris    male  22.0      1   \n",
       "1  Cumings, Mrs. John Bradley (Florence Briggs Th...  female  38.0      1   \n",
       "2                             Heikkinen, Miss. Laina  female  26.0      0   \n",
       "3       Futrelle, Mrs. Jacques Heath (Lily May Peel)  female  35.0      1   \n",
       "4                           Allen, Mr. William Henry    male  35.0      0   \n",
       "\n",
       "   Parch            Ticket     Fare Cabin Embarked  \n",
       "0      0         A/5 21171   7.2500   NaN        S  \n",
       "1      0          PC 17599  71.2833   C85        C  \n",
       "2      0  STON/O2. 3101282   7.9250   NaN        S  \n",
       "3      0            113803  53.1000  C123        S  \n",
       "4      0            373450   8.0500   NaN        S  "
      ]
     },
     "execution_count": 3,
     "metadata": {},
     "output_type": "execute_result"
    }
   ],
   "source": [
    "titanic = pd.read_csv(\"/kaggle/input/titanic/train.csv\")\n",
    "titanic.head()"
   ]
  },
  {
   "cell_type": "code",
   "execution_count": 4,
   "id": "254c728b",
   "metadata": {
    "execution": {
     "iopub.execute_input": "2024-02-07T04:54:25.473702Z",
     "iopub.status.busy": "2024-02-07T04:54:25.473286Z",
     "iopub.status.idle": "2024-02-07T04:54:25.498795Z",
     "shell.execute_reply": "2024-02-07T04:54:25.497548Z"
    },
    "papermill": {
     "duration": 0.039868,
     "end_time": "2024-02-07T04:54:25.501313",
     "exception": false,
     "start_time": "2024-02-07T04:54:25.461445",
     "status": "completed"
    },
    "tags": []
   },
   "outputs": [
    {
     "data": {
      "text/html": [
       "<div>\n",
       "<style scoped>\n",
       "    .dataframe tbody tr th:only-of-type {\n",
       "        vertical-align: middle;\n",
       "    }\n",
       "\n",
       "    .dataframe tbody tr th {\n",
       "        vertical-align: top;\n",
       "    }\n",
       "\n",
       "    .dataframe thead th {\n",
       "        text-align: right;\n",
       "    }\n",
       "</style>\n",
       "<table border=\"1\" class=\"dataframe\">\n",
       "  <thead>\n",
       "    <tr style=\"text-align: right;\">\n",
       "      <th></th>\n",
       "      <th>PassengerId</th>\n",
       "      <th>Pclass</th>\n",
       "      <th>Name</th>\n",
       "      <th>Sex</th>\n",
       "      <th>Age</th>\n",
       "      <th>SibSp</th>\n",
       "      <th>Parch</th>\n",
       "      <th>Ticket</th>\n",
       "      <th>Fare</th>\n",
       "      <th>Cabin</th>\n",
       "      <th>Embarked</th>\n",
       "    </tr>\n",
       "  </thead>\n",
       "  <tbody>\n",
       "    <tr>\n",
       "      <th>0</th>\n",
       "      <td>892</td>\n",
       "      <td>3</td>\n",
       "      <td>Kelly, Mr. James</td>\n",
       "      <td>male</td>\n",
       "      <td>34.5</td>\n",
       "      <td>0</td>\n",
       "      <td>0</td>\n",
       "      <td>330911</td>\n",
       "      <td>7.8292</td>\n",
       "      <td>NaN</td>\n",
       "      <td>Q</td>\n",
       "    </tr>\n",
       "    <tr>\n",
       "      <th>1</th>\n",
       "      <td>893</td>\n",
       "      <td>3</td>\n",
       "      <td>Wilkes, Mrs. James (Ellen Needs)</td>\n",
       "      <td>female</td>\n",
       "      <td>47.0</td>\n",
       "      <td>1</td>\n",
       "      <td>0</td>\n",
       "      <td>363272</td>\n",
       "      <td>7.0000</td>\n",
       "      <td>NaN</td>\n",
       "      <td>S</td>\n",
       "    </tr>\n",
       "    <tr>\n",
       "      <th>2</th>\n",
       "      <td>894</td>\n",
       "      <td>2</td>\n",
       "      <td>Myles, Mr. Thomas Francis</td>\n",
       "      <td>male</td>\n",
       "      <td>62.0</td>\n",
       "      <td>0</td>\n",
       "      <td>0</td>\n",
       "      <td>240276</td>\n",
       "      <td>9.6875</td>\n",
       "      <td>NaN</td>\n",
       "      <td>Q</td>\n",
       "    </tr>\n",
       "    <tr>\n",
       "      <th>3</th>\n",
       "      <td>895</td>\n",
       "      <td>3</td>\n",
       "      <td>Wirz, Mr. Albert</td>\n",
       "      <td>male</td>\n",
       "      <td>27.0</td>\n",
       "      <td>0</td>\n",
       "      <td>0</td>\n",
       "      <td>315154</td>\n",
       "      <td>8.6625</td>\n",
       "      <td>NaN</td>\n",
       "      <td>S</td>\n",
       "    </tr>\n",
       "    <tr>\n",
       "      <th>4</th>\n",
       "      <td>896</td>\n",
       "      <td>3</td>\n",
       "      <td>Hirvonen, Mrs. Alexander (Helga E Lindqvist)</td>\n",
       "      <td>female</td>\n",
       "      <td>22.0</td>\n",
       "      <td>1</td>\n",
       "      <td>1</td>\n",
       "      <td>3101298</td>\n",
       "      <td>12.2875</td>\n",
       "      <td>NaN</td>\n",
       "      <td>S</td>\n",
       "    </tr>\n",
       "  </tbody>\n",
       "</table>\n",
       "</div>"
      ],
      "text/plain": [
       "   PassengerId  Pclass                                          Name     Sex  \\\n",
       "0          892       3                              Kelly, Mr. James    male   \n",
       "1          893       3              Wilkes, Mrs. James (Ellen Needs)  female   \n",
       "2          894       2                     Myles, Mr. Thomas Francis    male   \n",
       "3          895       3                              Wirz, Mr. Albert    male   \n",
       "4          896       3  Hirvonen, Mrs. Alexander (Helga E Lindqvist)  female   \n",
       "\n",
       "    Age  SibSp  Parch   Ticket     Fare Cabin Embarked  \n",
       "0  34.5      0      0   330911   7.8292   NaN        Q  \n",
       "1  47.0      1      0   363272   7.0000   NaN        S  \n",
       "2  62.0      0      0   240276   9.6875   NaN        Q  \n",
       "3  27.0      0      0   315154   8.6625   NaN        S  \n",
       "4  22.0      1      1  3101298  12.2875   NaN        S  "
      ]
     },
     "execution_count": 4,
     "metadata": {},
     "output_type": "execute_result"
    }
   ],
   "source": [
    "test = pd.read_csv(\"/kaggle/input/titanic/test.csv\")\n",
    "test.head()"
   ]
  },
  {
   "cell_type": "code",
   "execution_count": 5,
   "id": "5711ee18",
   "metadata": {
    "execution": {
     "iopub.execute_input": "2024-02-07T04:54:25.525050Z",
     "iopub.status.busy": "2024-02-07T04:54:25.524564Z",
     "iopub.status.idle": "2024-02-07T04:54:25.531238Z",
     "shell.execute_reply": "2024-02-07T04:54:25.530072Z"
    },
    "papermill": {
     "duration": 0.021669,
     "end_time": "2024-02-07T04:54:25.533885",
     "exception": false,
     "start_time": "2024-02-07T04:54:25.512216",
     "status": "completed"
    },
    "tags": []
   },
   "outputs": [
    {
     "data": {
      "text/plain": [
       "(891, 12)"
      ]
     },
     "execution_count": 5,
     "metadata": {},
     "output_type": "execute_result"
    }
   ],
   "source": [
    "titanic.shape"
   ]
  },
  {
   "cell_type": "code",
   "execution_count": 6,
   "id": "a8eb03bf",
   "metadata": {
    "execution": {
     "iopub.execute_input": "2024-02-07T04:54:25.557796Z",
     "iopub.status.busy": "2024-02-07T04:54:25.557105Z",
     "iopub.status.idle": "2024-02-07T04:54:25.591835Z",
     "shell.execute_reply": "2024-02-07T04:54:25.590300Z"
    },
    "papermill": {
     "duration": 0.050519,
     "end_time": "2024-02-07T04:54:25.595128",
     "exception": false,
     "start_time": "2024-02-07T04:54:25.544609",
     "status": "completed"
    },
    "tags": []
   },
   "outputs": [
    {
     "name": "stdout",
     "output_type": "stream",
     "text": [
      "<class 'pandas.core.frame.DataFrame'>\n",
      "RangeIndex: 891 entries, 0 to 890\n",
      "Data columns (total 12 columns):\n",
      " #   Column       Non-Null Count  Dtype  \n",
      "---  ------       --------------  -----  \n",
      " 0   PassengerId  891 non-null    int64  \n",
      " 1   Survived     891 non-null    int64  \n",
      " 2   Pclass       891 non-null    int64  \n",
      " 3   Name         891 non-null    object \n",
      " 4   Sex          891 non-null    object \n",
      " 5   Age          714 non-null    float64\n",
      " 6   SibSp        891 non-null    int64  \n",
      " 7   Parch        891 non-null    int64  \n",
      " 8   Ticket       891 non-null    object \n",
      " 9   Fare         891 non-null    float64\n",
      " 10  Cabin        204 non-null    object \n",
      " 11  Embarked     889 non-null    object \n",
      "dtypes: float64(2), int64(5), object(5)\n",
      "memory usage: 83.7+ KB\n"
     ]
    }
   ],
   "source": [
    "titanic.info()"
   ]
  },
  {
   "cell_type": "code",
   "execution_count": 7,
   "id": "cb784adb",
   "metadata": {
    "execution": {
     "iopub.execute_input": "2024-02-07T04:54:25.620191Z",
     "iopub.status.busy": "2024-02-07T04:54:25.619629Z",
     "iopub.status.idle": "2024-02-07T04:54:25.630309Z",
     "shell.execute_reply": "2024-02-07T04:54:25.628988Z"
    },
    "papermill": {
     "duration": 0.027104,
     "end_time": "2024-02-07T04:54:25.633263",
     "exception": false,
     "start_time": "2024-02-07T04:54:25.606159",
     "status": "completed"
    },
    "tags": []
   },
   "outputs": [
    {
     "data": {
      "text/plain": [
       "PassengerId      0\n",
       "Survived         0\n",
       "Pclass           0\n",
       "Name             0\n",
       "Sex              0\n",
       "Age            177\n",
       "SibSp            0\n",
       "Parch            0\n",
       "Ticket           0\n",
       "Fare             0\n",
       "Cabin          687\n",
       "Embarked         2\n",
       "dtype: int64"
      ]
     },
     "execution_count": 7,
     "metadata": {},
     "output_type": "execute_result"
    }
   ],
   "source": [
    "titanic.isnull().sum()"
   ]
  },
  {
   "cell_type": "code",
   "execution_count": 8,
   "id": "70ef4271",
   "metadata": {
    "execution": {
     "iopub.execute_input": "2024-02-07T04:54:25.659334Z",
     "iopub.status.busy": "2024-02-07T04:54:25.658945Z",
     "iopub.status.idle": "2024-02-07T04:54:25.666984Z",
     "shell.execute_reply": "2024-02-07T04:54:25.665657Z"
    },
    "papermill": {
     "duration": 0.024092,
     "end_time": "2024-02-07T04:54:25.670237",
     "exception": false,
     "start_time": "2024-02-07T04:54:25.646145",
     "status": "completed"
    },
    "tags": []
   },
   "outputs": [
    {
     "name": "stdout",
     "output_type": "stream",
     "text": [
      "Total Percentage of Null Values in dataset is 8.099513655069211%\n"
     ]
    }
   ],
   "source": [
    "total_null = titanic.isnull().sum().sum()\n",
    "total_cell = np.product(titanic.shape)\n",
    "percent_null = (total_null/total_cell)*100\n",
    "print(f'Total Percentage of Null Values in dataset is {percent_null}%')"
   ]
  },
  {
   "cell_type": "code",
   "execution_count": 9,
   "id": "ea06c13f",
   "metadata": {
    "execution": {
     "iopub.execute_input": "2024-02-07T04:54:25.694598Z",
     "iopub.status.busy": "2024-02-07T04:54:25.694217Z",
     "iopub.status.idle": "2024-02-07T04:54:25.705862Z",
     "shell.execute_reply": "2024-02-07T04:54:25.704722Z"
    },
    "papermill": {
     "duration": 0.026803,
     "end_time": "2024-02-07T04:54:25.708245",
     "exception": false,
     "start_time": "2024-02-07T04:54:25.681442",
     "status": "completed"
    },
    "tags": []
   },
   "outputs": [],
   "source": [
    "titanic.dropna(subset=['Age','Embarked'],inplace=True)"
   ]
  },
  {
   "cell_type": "markdown",
   "id": "023f8525",
   "metadata": {
    "papermill": {
     "duration": 0.010711,
     "end_time": "2024-02-07T04:54:25.730178",
     "exception": false,
     "start_time": "2024-02-07T04:54:25.719467",
     "status": "completed"
    },
    "tags": []
   },
   "source": [
    "**Survival Column(Target)**"
   ]
  },
  {
   "cell_type": "code",
   "execution_count": 10,
   "id": "3f10334a",
   "metadata": {
    "execution": {
     "iopub.execute_input": "2024-02-07T04:54:25.755574Z",
     "iopub.status.busy": "2024-02-07T04:54:25.755184Z",
     "iopub.status.idle": "2024-02-07T04:54:25.976236Z",
     "shell.execute_reply": "2024-02-07T04:54:25.975184Z"
    },
    "papermill": {
     "duration": 0.237069,
     "end_time": "2024-02-07T04:54:25.978444",
     "exception": false,
     "start_time": "2024-02-07T04:54:25.741375",
     "status": "completed"
    },
    "tags": []
   },
   "outputs": [
    {
     "data": {
      "image/png": "[encoded data removed]",
      "text/plain": [
       "<Figure size 640x480 with 1 Axes>"
      ]
     },
     "metadata": {},
     "output_type": "display_data"
    }
   ],
   "source": [
    "titanic['Survived'].value_counts().plot.pie(autopct='%0.1f%%',startangle=90,explode=[0,0.1],shadow=True)\n",
    "plt.title('Percentage of Survived and not survived',fontweight='bold')\n",
    "plt.show()"
   ]
  },
  {
   "cell_type": "markdown",
   "id": "65c73719",
   "metadata": {
    "papermill": {
     "duration": 0.011554,
     "end_time": "2024-02-07T04:54:26.002116",
     "exception": false,
     "start_time": "2024-02-07T04:54:25.990562",
     "status": "completed"
    },
    "tags": []
   },
   "source": [
    "Nearly 60% of people died, and 40% of people survived."
   ]
  },
  {
   "cell_type": "markdown",
   "id": "7c99cfcc",
   "metadata": {
    "papermill": {
     "duration": 0.011314,
     "end_time": "2024-02-07T04:54:26.025203",
     "exception": false,
     "start_time": "2024-02-07T04:54:26.013889",
     "status": "completed"
    },
    "tags": []
   },
   "source": [
    "**Sex Column**"
   ]
  },
  {
   "cell_type": "code",
   "execution_count": 11,
   "id": "d20483c2",
   "metadata": {
    "execution": {
     "iopub.execute_input": "2024-02-07T04:54:26.050900Z",
     "iopub.status.busy": "2024-02-07T04:54:26.050478Z",
     "iopub.status.idle": "2024-02-07T04:54:26.446827Z",
     "shell.execute_reply": "2024-02-07T04:54:26.445585Z"
    },
    "papermill": {
     "duration": 0.411961,
     "end_time": "2024-02-07T04:54:26.449476",
     "exception": false,
     "start_time": "2024-02-07T04:54:26.037515",
     "status": "completed"
    },
    "tags": []
   },
   "outputs": [
    {
     "data": {
      "image/png": "[encoded data removed]",
      "text/plain": [
       "<Figure size 700x300 with 2 Axes>"
      ]
     },
     "metadata": {},
     "output_type": "display_data"
    }
   ],
   "source": [
    "sns.set_style('darkgrid')\n",
    "fig,ax = plt.subplots(figsize=(7,3),ncols=2)\n",
    "Male_Survived = titanic[titanic['Sex'] == 'male']['Survived'].value_counts()\n",
    "sns.barplot(x = Male_Survived.index,y= Male_Survived.values,palette=['Red','Green'],ax=ax[0])\n",
    "ax[0].set_title('Male',fontweight='bold')\n",
    "ax[0].set_ylabel('Count')\n",
    "ax[0].set_xlabel('Survived')\n",
    "\n",
    "\n",
    "Female_Survived = titanic[titanic['Sex'] == 'female']['Survived'].value_counts()\n",
    "sns.barplot(x = Female_Survived.index,y= Female_Survived.values,palette=['Red','Green'],ax=ax[1])\n",
    "ax[1].set_title('Female',fontweight='bold')\n",
    "ax[1].set_xlabel('Survived')\n",
    "\n",
    "\n",
    "plt.show()"
   ]
  },
  {
   "cell_type": "markdown",
   "id": "fc91d8b6",
   "metadata": {
    "papermill": {
     "duration": 0.011888,
     "end_time": "2024-02-07T04:54:26.473679",
     "exception": false,
     "start_time": "2024-02-07T04:54:26.461791",
     "status": "completed"
    },
    "tags": []
   },
   "source": [
    "A larger number of people were male."
   ]
  },
  {
   "cell_type": "markdown",
   "id": "6c39c657",
   "metadata": {
    "papermill": {
     "duration": 0.01277,
     "end_time": "2024-02-07T04:54:26.499192",
     "exception": false,
     "start_time": "2024-02-07T04:54:26.486422",
     "status": "completed"
    },
    "tags": []
   },
   "source": [
    "**PClass Column**"
   ]
  },
  {
   "cell_type": "code",
   "execution_count": 12,
   "id": "06313268",
   "metadata": {
    "execution": {
     "iopub.execute_input": "2024-02-07T04:54:26.526967Z",
     "iopub.status.busy": "2024-02-07T04:54:26.526255Z",
     "iopub.status.idle": "2024-02-07T04:54:27.155602Z",
     "shell.execute_reply": "2024-02-07T04:54:27.154316Z"
    },
    "papermill": {
     "duration": 0.646658,
     "end_time": "2024-02-07T04:54:27.158627",
     "exception": false,
     "start_time": "2024-02-07T04:54:26.511969",
     "status": "completed"
    },
    "tags": []
   },
   "outputs": [
    {
     "data": {
      "image/png": "[encoded data removed]",
      "text/plain": [
       "<Figure size 1000x300 with 3 Axes>"
      ]
     },
     "metadata": {},
     "output_type": "display_data"
    }
   ],
   "source": [
    "sns.set_style('darkgrid')\n",
    "fig,ax = plt.subplots(figsize=(10,3),ncols=3)\n",
    "First_Class = titanic[titanic['Pclass'] == 1]['Survived'].value_counts()\n",
    "sns.barplot(x=First_Class.index,y=First_Class.values,palette=['Red','Green'],ax=ax[0])\n",
    "ax[0].set_title('First Class')\n",
    "ax[0].set_ylabel('Count')\n",
    "ax[0].set_xlabel('Survived')\n",
    "\n",
    "Second_Class = titanic[titanic['Pclass'] == 2]['Survived'].value_counts()\n",
    "sns.barplot(x=Second_Class.index,y=Second_Class.values,palette=['Red','Green'],ax=ax[1])\n",
    "ax[1].set_title('Second Class')\n",
    "ax[1].set_xlabel('Survived')\n",
    "\n",
    "Third_Class = titanic[titanic['Pclass'] == 3]['Survived'].value_counts()\n",
    "sns.barplot(x=Third_Class.index,y=Third_Class.values,palette=['Red','Green'],ax=ax[2])\n",
    "ax[2].set_title('Third Class')\n",
    "ax[2].set_xlabel('Survived')\n",
    "\n",
    "plt.show()"
   ]
  },
  {
   "cell_type": "markdown",
   "id": "3fd97e10",
   "metadata": {
    "papermill": {
     "duration": 0.012937,
     "end_time": "2024-02-07T04:54:27.184154",
     "exception": false,
     "start_time": "2024-02-07T04:54:27.171217",
     "status": "completed"
    },
    "tags": []
   },
   "source": [
    "A larger number of people were in third class."
   ]
  },
  {
   "cell_type": "markdown",
   "id": "d016318a",
   "metadata": {
    "papermill": {
     "duration": 0.012088,
     "end_time": "2024-02-07T04:54:27.209508",
     "exception": false,
     "start_time": "2024-02-07T04:54:27.197420",
     "status": "completed"
    },
    "tags": []
   },
   "source": [
    "**Feature Creation**"
   ]
  },
  {
   "cell_type": "markdown",
   "id": "52e132ed",
   "metadata": {
    "papermill": {
     "duration": 0.012091,
     "end_time": "2024-02-07T04:54:27.234165",
     "exception": false,
     "start_time": "2024-02-07T04:54:27.222074",
     "status": "completed"
    },
    "tags": []
   },
   "source": [
    "**Age_Category Column**"
   ]
  },
  {
   "cell_type": "code",
   "execution_count": 13,
   "id": "e01804c7",
   "metadata": {
    "execution": {
     "iopub.execute_input": "2024-02-07T04:54:27.261451Z",
     "iopub.status.busy": "2024-02-07T04:54:27.261052Z",
     "iopub.status.idle": "2024-02-07T04:54:27.861359Z",
     "shell.execute_reply": "2024-02-07T04:54:27.860161Z"
    },
    "papermill": {
     "duration": 0.617384,
     "end_time": "2024-02-07T04:54:27.864006",
     "exception": false,
     "start_time": "2024-02-07T04:54:27.246622",
     "status": "completed"
    },
    "tags": []
   },
   "outputs": [
    {
     "data": {
      "image/png": "[encoded data removed]",
      "text/plain": [
       "<Figure size 1000x300 with 3 Axes>"
      ]
     },
     "metadata": {},
     "output_type": "display_data"
    }
   ],
   "source": [
    "def categorize_age(age):\n",
    "    if age <= 18:\n",
    "        return 'Child'\n",
    "    elif 18 < age <= 60:\n",
    "        return 'Adult'\n",
    "    else:\n",
    "        return 'Senior'\n",
    "\n",
    "titanic['Age_Category'] = titanic['Age'].apply(categorize_age)\n",
    "\n",
    "fig,ax = plt.subplots(figsize=(10,3),ncols = 3)\n",
    "Children = titanic[(titanic['Age_Category'] == 'Child')]['Survived'].value_counts()\n",
    "sns.barplot(x=Children.index,y=Children.values,palette=['Red','Green'],ax=ax[0])\n",
    "ax[0].set_title('Children')\n",
    "ax[0].set_ylabel('Count')\n",
    "ax[0].set_xlabel('Survived')\n",
    "\n",
    "\n",
    "Adult = titanic[(titanic['Age_Category'] == 'Adult')]['Survived'].value_counts()\n",
    "sns.barplot(x=Adult.index,y=Adult.values,palette=['Red','Green'],ax=ax[1])\n",
    "ax[1].set_title('Adult')\n",
    "ax[1].set_xlabel('Survived')\n",
    "\n",
    "Senior = titanic[(titanic['Age_Category'] == 'Senior')]['Survived'].value_counts()\n",
    "sns.barplot(x=Senior.index,y=Senior.values,palette=['Red','Green'],ax=ax[2])\n",
    "ax[2].set_title('Senior')\n",
    "ax[2].set_xlabel('Survived')\n",
    "\n",
    "plt.show()"
   ]
  },
  {
   "cell_type": "markdown",
   "id": "22a12839",
   "metadata": {
    "papermill": {
     "duration": 0.012583,
     "end_time": "2024-02-07T04:54:27.889592",
     "exception": false,
     "start_time": "2024-02-07T04:54:27.877009",
     "status": "completed"
    },
    "tags": []
   },
   "source": [
    "A larger number of people were adults on the Titanic."
   ]
  },
  {
   "cell_type": "markdown",
   "id": "d082f932",
   "metadata": {
    "papermill": {
     "duration": 0.012508,
     "end_time": "2024-02-07T04:54:27.915233",
     "exception": false,
     "start_time": "2024-02-07T04:54:27.902725",
     "status": "completed"
    },
    "tags": []
   },
   "source": [
    "**Embarked Column**"
   ]
  },
  {
   "cell_type": "code",
   "execution_count": 14,
   "id": "40a67cb8",
   "metadata": {
    "execution": {
     "iopub.execute_input": "2024-02-07T04:54:27.943747Z",
     "iopub.status.busy": "2024-02-07T04:54:27.943333Z",
     "iopub.status.idle": "2024-02-07T04:54:28.479966Z",
     "shell.execute_reply": "2024-02-07T04:54:28.478666Z"
    },
    "papermill": {
     "duration": 0.554488,
     "end_time": "2024-02-07T04:54:28.482619",
     "exception": false,
     "start_time": "2024-02-07T04:54:27.928131",
     "status": "completed"
    },
    "tags": []
   },
   "outputs": [
    {
     "data": {
      "image/png": "[encoded data removed]",
      "text/plain": [
       "<Figure size 1000x300 with 3 Axes>"
      ]
     },
     "metadata": {},
     "output_type": "display_data"
    }
   ],
   "source": [
    "fig,ax = plt.subplots(figsize=(10,3),ncols = 3)\n",
    "S = titanic[(titanic['Embarked'] == 'S')]['Survived'].value_counts()\n",
    "sns.barplot(x=S.index,y=S.values,palette=['Red','Green'],ax=ax[0])\n",
    "ax[0].set_title('S')\n",
    "ax[0].set_ylabel('Count')\n",
    "ax[0].set_xlabel('Survived')\n",
    "\n",
    "\n",
    "C = titanic[(titanic['Embarked'] == 'C')]['Survived'].value_counts()\n",
    "sns.barplot(x=C.index,y=C.values,palette=['Red','Green'],ax=ax[1])\n",
    "ax[1].set_title('C')\n",
    "ax[1].set_xlabel('Survived')\n",
    "\n",
    "Q = titanic[(titanic['Embarked'] == 'Q')]['Survived'].value_counts()\n",
    "sns.barplot(x=Q.index,y=Q.values,palette=['Red','Green'],ax=ax[2])\n",
    "ax[2].set_title('Q')\n",
    "ax[2].set_xlabel('Survived')\n",
    "\n",
    "plt.show()"
   ]
  },
  {
   "cell_type": "markdown",
   "id": "4c104504",
   "metadata": {
    "papermill": {
     "duration": 0.013163,
     "end_time": "2024-02-07T04:54:28.509401",
     "exception": false,
     "start_time": "2024-02-07T04:54:28.496238",
     "status": "completed"
    },
    "tags": []
   },
   "source": [
    "The majority of embarkation took place in Southampton (England)."
   ]
  },
  {
   "cell_type": "markdown",
   "id": "4a211745",
   "metadata": {
    "papermill": {
     "duration": 0.012983,
     "end_time": "2024-02-07T04:54:28.536314",
     "exception": false,
     "start_time": "2024-02-07T04:54:28.523331",
     "status": "completed"
    },
    "tags": []
   },
   "source": [
    "**Feature Creation**"
   ]
  },
  {
   "cell_type": "markdown",
   "id": "ff64534b",
   "metadata": {
    "papermill": {
     "duration": 0.013168,
     "end_time": "2024-02-07T04:54:28.562722",
     "exception": false,
     "start_time": "2024-02-07T04:54:28.549554",
     "status": "completed"
    },
    "tags": []
   },
   "source": [
    "**Family_Size Column**"
   ]
  },
  {
   "cell_type": "code",
   "execution_count": 15,
   "id": "e5557304",
   "metadata": {
    "execution": {
     "iopub.execute_input": "2024-02-07T04:54:28.592387Z",
     "iopub.status.busy": "2024-02-07T04:54:28.591988Z",
     "iopub.status.idle": "2024-02-07T04:54:28.607917Z",
     "shell.execute_reply": "2024-02-07T04:54:28.606831Z"
    },
    "papermill": {
     "duration": 0.034142,
     "end_time": "2024-02-07T04:54:28.610160",
     "exception": false,
     "start_time": "2024-02-07T04:54:28.576018",
     "status": "completed"
    },
    "tags": []
   },
   "outputs": [
    {
     "data": {
      "text/plain": [
       "array([2, 1, 5, 3, 7, 6, 4, 8])"
      ]
     },
     "execution_count": 15,
     "metadata": {},
     "output_type": "execute_result"
    }
   ],
   "source": [
    "titanic['Name_Count'] = 1\n",
    "\n",
    "family = ['Name_Count','SibSp','Parch']\n",
    "titanic['Family_Size'] = titanic[family].sum(axis=1)\n",
    "\n",
    "#For test data\n",
    "test['Name_Count'] = 1\n",
    "family = ['Name_Count','SibSp','Parch']\n",
    "test['Family_Size'] = test[family].sum(axis=1)\n",
    "\n",
    "titanic['Family_Size'].unique()"
   ]
  },
  {
   "cell_type": "code",
   "execution_count": 16,
   "id": "06ccec9c",
   "metadata": {
    "execution": {
     "iopub.execute_input": "2024-02-07T04:54:28.639888Z",
     "iopub.status.busy": "2024-02-07T04:54:28.639471Z",
     "iopub.status.idle": "2024-02-07T04:54:30.399077Z",
     "shell.execute_reply": "2024-02-07T04:54:30.397649Z"
    },
    "papermill": {
     "duration": 1.77817,
     "end_time": "2024-02-07T04:54:30.401900",
     "exception": false,
     "start_time": "2024-02-07T04:54:28.623730",
     "status": "completed"
    },
    "tags": []
   },
   "outputs": [
    {
     "data": {
      "image/png": "[encoded data removed]",
      "text/plain": [
       "<Figure size 1500x1000 with 8 Axes>"
      ]
     },
     "metadata": {},
     "output_type": "display_data"
    }
   ],
   "source": [
    "x = [1,2,3,4,5,6,7,8]\n",
    "y = 1\n",
    "plt.subplots(4,2,figsize=(15,10))\n",
    "for i in x:\n",
    "  plt.subplot(4,2,y)\n",
    "  family = titanic[(titanic['Family_Size'] == i)]['Survived'].value_counts()\n",
    "  sns.barplot(x=family.index,y=family.values,palette=['Red','Green'])\n",
    "  plt.title(f'Family Size = {i}',fontweight='bold')\n",
    "  plt.xlabel('Survived')\n",
    "  plt.ylabel('Count')\n",
    "  y += 1\n",
    "\n",
    "plt.tight_layout()\n",
    "plt.show()"
   ]
  },
  {
   "cell_type": "markdown",
   "id": "caa94e2f",
   "metadata": {
    "papermill": {
     "duration": 0.014518,
     "end_time": "2024-02-07T04:54:30.431705",
     "exception": false,
     "start_time": "2024-02-07T04:54:30.417187",
     "status": "completed"
    },
    "tags": []
   },
   "source": [
    "**Making Predictions**"
   ]
  },
  {
   "cell_type": "code",
   "execution_count": 17,
   "id": "1842961c",
   "metadata": {
    "execution": {
     "iopub.execute_input": "2024-02-07T04:54:30.463142Z",
     "iopub.status.busy": "2024-02-07T04:54:30.462710Z",
     "iopub.status.idle": "2024-02-07T04:54:30.589988Z",
     "shell.execute_reply": "2024-02-07T04:54:30.589036Z"
    },
    "papermill": {
     "duration": 0.146211,
     "end_time": "2024-02-07T04:54:30.593103",
     "exception": false,
     "start_time": "2024-02-07T04:54:30.446892",
     "status": "completed"
    },
    "tags": []
   },
   "outputs": [],
   "source": [
    "features = ['Pclass','Sex','Age','Family_Size']\n",
    "X = pd.get_dummies(titanic[features])\n",
    "X_test = pd.get_dummies(test[features])\n",
    "y = titanic['Survived']\n",
    "\n",
    "model = XGBClassifier(n_estimators=100, max_depth=5, random_state=1)\n",
    "\n",
    "model.fit(X,y)\n",
    "predictions = model.predict(X_test)"
   ]
  },
  {
   "cell_type": "code",
   "execution_count": 18,
   "id": "e81aa1f2",
   "metadata": {
    "execution": {
     "iopub.execute_input": "2024-02-07T04:54:30.629184Z",
     "iopub.status.busy": "2024-02-07T04:54:30.628419Z",
     "iopub.status.idle": "2024-02-07T04:54:30.639894Z",
     "shell.execute_reply": "2024-02-07T04:54:30.638170Z"
    },
    "papermill": {
     "duration": 0.03017,
     "end_time": "2024-02-07T04:54:30.642400",
     "exception": false,
     "start_time": "2024-02-07T04:54:30.612230",
     "status": "completed"
    },
    "tags": []
   },
   "outputs": [
    {
     "name": "stdout",
     "output_type": "stream",
     "text": [
      "Your submission was successfully saved!\n"
     ]
    }
   ],
   "source": [
    "output = pd.DataFrame({'PassengerId': test.PassengerId, 'Survived': predictions})\n",
    "output.to_csv('submission.csv', index=False)\n",
    "print(\"Your submission was successfully saved!\")"
   ]
  },
  {
   "cell_type": "code",
   "execution_count": null,
   "id": "38fe9906",
   "metadata": {
    "papermill": {
     "duration": 0.014041,
     "end_time": "2024-02-07T04:54:30.671033",
     "exception": false,
     "start_time": "2024-02-07T04:54:30.656992",
     "status": "completed"
    },
    "tags": []
   },
   "outputs": [],
   "source": []
  },
  {
   "cell_type": "code",
   "execution_count": null,
   "id": "a2a3cdc6",
   "metadata": {
    "papermill": {
     "duration": 0.014792,
     "end_time": "2024-02-07T04:54:30.700352",
     "exception": false,
     "start_time": "2024-02-07T04:54:30.685560",
     "status": "completed"
    },
    "tags": []
   },
   "outputs": [],
   "source": []
  }
 ],
 "metadata": {
  "kaggle": {
   "accelerator": "none",
   "dataSources": [
    {
     "databundleVersionId": 26502,
     "sourceId": 3136,
     "sourceType": "competition"
    }
   ],
   "dockerImageVersionId": 30646,
   "isGpuEnabled": false,
   "isInternetEnabled": false,
   "language": "python",
   "sourceType": "notebook"
  },
  "kernelspec": {
   "display_name": "Python 3",
   "language": "python",
   "name": "python3"
  },
  "language_info": {
   "codemirror_mode": {
    "name": "ipython",
    "version": 3
   },
   "file_extension": ".py",
   "mimetype": "text/x-python",
   "name": "python",
   "nbconvert_exporter": "python",
   "pygments_lexer": "ipython3",
   "version": "3.10.13"
  },
  "papermill": {
   "default_parameters": {},
   "duration": 13.038165,
   "end_time": "2024-02-07T04:54:31.439238",
   "environment_variables": {},
   "exception": null,
   "input_path": "__notebook__.ipynb",
   "output_path": "__notebook__.ipynb",
   "parameters": {},
   "start_time": "2024-02-07T04:54:18.401073",
   "version": "2.5.0"
  }
 },
 "nbformat": 4,
 "nbformat_minor": 5
}
