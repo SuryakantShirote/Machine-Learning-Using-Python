{
  "nbformat": 4,
  "nbformat_minor": 0,
  "metadata": {
    "colab": {
      "provenance": []
    },
    "kernelspec": {
      "name": "python3",
      "display_name": "Python 3"
    },
    "language_info": {
      "name": "python"
    }
  },
  "cells": [
    {
      "cell_type": "code",
      "source": [
        "import pandas as pd\n",
        "import numpy as np\n",
        "import matplotlib.pyplot as plt\n",
        "import seaborn as sns\n",
        "import sqlite3\n",
        "#import boto3\n",
        "import json\n",
        "from sklearn.model_selection import train_test_split\n",
        "from sklearn.ensemble import RandomForestClassifier\n",
        "from xgboost import XGBClassifier\n",
        "from sklearn.metrics import accuracy_score, classification_report\n",
        "from flask import Flask, request, jsonify\n",
        "import joblib\n",
        "\n",
        "# Step 1: Data Collection\n",
        "# Connecting to SQL Database\n",
        "# conn = sqlite3.connect(\"customer_data.db\")\n",
        "# query = \"SELECT * FROM customer_churn\"\n",
        "# df = pd.read_sql(query, conn)\n",
        "# conn.close()\n",
        "\n",
        "# # Load additional data from AWS S3\n",
        "# s3 = boto3.client('s3')\n",
        "# bucket_name = \"customer-churn-data\"\n",
        "# file_name = \"customer_interactions.csv\"\n",
        "\n",
        "# s3.download_file(bucket_name, file_name, file_name)\n",
        "# data_s3 = pd.read_csv(file_name)\n",
        "# df = pd.concat([df, data_s3], axis=0)\n",
        "\n",
        "df = pd.read_csv(r'/content/customer_churn (1).csv')\n",
        "\n",
        "\n",
        "\n",
        "\n",
        "\n",
        "\n",
        "# Step 2: Data Preprocessing\n",
        "# Handling missing values\n",
        "df.fillna(method='ffill', inplace=True)\n",
        "\n",
        "# Encoding categorical variables\n",
        "df = pd.get_dummies(df, drop_first=True)\n",
        "\n",
        "# Splitting data\n",
        "X = df.drop('Churn_Yes', axis=1)\n",
        "y = df['Churn_Yes']\n",
        "X_train, X_test, y_train, y_test = train_test_split(X, y, test_size=0.2, random_state=42)\n",
        "\n",
        "# Step 3: Model Training\n",
        "rf_model = RandomForestClassifier(n_estimators=100, random_state=42)\n",
        "rf_model.fit(X_train, y_train)\n",
        "rf_preds = rf_model.predict(X_test)\n",
        "print(\"Random Forest Accuracy:\", accuracy_score(y_test, rf_preds))\n",
        "\n",
        "xgb_model = XGBClassifier(n_estimators=100, learning_rate=0.1, random_state=42)\n",
        "xgb_model.fit(X_train, y_train)\n",
        "xgb_preds = xgb_model.predict(X_test)\n",
        "print(\"XGBoost Accuracy:\", accuracy_score(y_test, xgb_preds))\n",
        "\n",
        "# Save the best model\n",
        "joblib.dump(xgb_model, \"churn_model.pkl\")\n",
        "\n"
      ],
      "metadata": {
        "colab": {
          "base_uri": "https://localhost:8080/"
        },
        "id": "XJ0NswrDeAkX",
        "outputId": "fe5ee9e6-d8ec-4e75-d331-043aafa7bce5"
      },
      "execution_count": null,
      "outputs": [
        {
          "output_type": "stream",
          "name": "stderr",
          "text": [
            "<ipython-input-10-50dd06277a38>:40: FutureWarning: DataFrame.fillna with 'method' is deprecated and will raise in a future version. Use obj.ffill() or obj.bfill() instead.\n",
            "  df.fillna(method='ffill', inplace=True)\n"
          ]
        },
        {
          "output_type": "stream",
          "name": "stdout",
          "text": [
            "Random Forest Accuracy: 0.8034066713981547\n",
            "XGBoost Accuracy: 0.8076650106458482\n"
          ]
        },
        {
          "output_type": "execute_result",
          "data": {
            "text/plain": [
              "['churn_model.pkl']"
            ]
          },
          "metadata": {},
          "execution_count": 10
        }
      ]
    },
    {
      "cell_type": "code",
      "source": [],
      "metadata": {
        "id": "mXeloWjdjjGG"
      },
      "execution_count": null,
      "outputs": []
    }
  ]
}